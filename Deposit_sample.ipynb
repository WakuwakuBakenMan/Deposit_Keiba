{
 "cells": [
  {
   "cell_type": "code",
   "execution_count": 1,
   "id": "654af163-a006-4717-921c-09510600989d",
   "metadata": {},
   "outputs": [],
   "source": [
    "from time import sleep\n",
    "from selenium import webdriver\n",
    "from selenium.webdriver.common.alert import Alert"
   ]
  },
  {
   "cell_type": "code",
   "execution_count": 2,
   "id": "e1f64f07-3150-4264-b95c-4efc4a222072",
   "metadata": {},
   "outputs": [],
   "source": [
    "driver = webdriver.Chrome('./chromedriver.exe')\n",
    "driver.get('https://www.jra.go.jp/')\n",
    "sleep(1)"
   ]
  },
  {
   "cell_type": "code",
   "execution_count": 3,
   "id": "cbde5a34-5bd4-44d7-9c53-bdd093dd857f",
   "metadata": {},
   "outputs": [],
   "source": [
    "#投票ログイン\n",
    "driver.find_element_by_xpath('//*[@id=\"header\"]/div/div[1]/div/div[3]/div/div[2]/div').click()\n",
    "sleep(1)"
   ]
  },
  {
   "cell_type": "code",
   "execution_count": 4,
   "id": "4c9d24d7-27d0-47ef-9b6b-c0cf763dbcc5",
   "metadata": {},
   "outputs": [],
   "source": [
    "# INETID\n",
    "inet_id = \"\"\n",
    "# 加入者番号\n",
    "kanyusha_no = \"\"\n",
    "# PATのパスワード\n",
    "password_pat = \"\"\n",
    "# P-RAS番号\n",
    "pras_no = \"\"\n",
    "# JRA IPATへの入金金額[yen]\n",
    "deposit_money = 10000"
   ]
  },
  {
   "cell_type": "code",
   "execution_count": 5,
   "id": "49bece99-0705-4d5a-aff0-ff0ad15345ae",
   "metadata": {},
   "outputs": [],
   "source": [
    "#INET-ID 入力\n",
    "driver.switch_to.window(driver.window_handles[1])\n",
    "driver.find_element_by_xpath('//*[@id=\"top\"]/div[3]/div/table/tbody/tr/td[2]/div/div/form/table[1]/tbody/tr/td[2]/span/input').send_keys(inet_id)\n",
    "driver.find_element_by_xpath('//*[@id=\"top\"]/div[3]/div/table/tbody/tr/td[2]/div/div/form/table[1]/tbody/tr/td[3]/p/a').click()\n",
    "sleep(1)"
   ]
  },
  {
   "cell_type": "code",
   "execution_count": 6,
   "id": "79904e94-0dd8-403f-99c8-dc9c3a93a4ae",
   "metadata": {},
   "outputs": [],
   "source": [
    "#加入者情報 入力\n",
    "driver.find_element_by_xpath('//*[@id=\"main_area\"]/div/div[1]/table/tbody/tr[1]/td[2]/span/input').send_keys(kanyusha_no)\n",
    "driver.find_element_by_xpath('//*[@id=\"main_area\"]/div/div[1]/table/tbody/tr[2]/td[2]/span/input').send_keys(password_pat)\n",
    "driver.find_element_by_xpath('//*[@id=\"main_area\"]/div/div[1]/table/tbody/tr[3]/td[2]/span/input').send_keys(pras_no)\n",
    "driver.find_element_by_xpath('//*[@id=\"main_area\"]/div/div[1]/table/tbody/tr[1]/td[3]/p/a').click()\n",
    "sleep(1)"
   ]
  },
  {
   "cell_type": "code",
   "execution_count": 7,
   "id": "a348368f-f135-46ab-87c9-e5e55654cdf2",
   "metadata": {},
   "outputs": [],
   "source": [
    "#入出金画面へ遷移\n",
    "driver.find_element_by_xpath('//*[@id=\"ipat-navbar\"]/div/div[2]/ul/li[1]/form/button').click()\n",
    "sleep(1)"
   ]
  },
  {
   "cell_type": "code",
   "execution_count": 8,
   "id": "cd7c610c-c93a-4b6b-b38a-27440db7dbda",
   "metadata": {},
   "outputs": [],
   "source": [
    "#入金画面へ遷移\n",
    "driver.switch_to.window(driver.window_handles[2])\n",
    "driver.find_element_by_xpath('/html/body/section/div[1]/form/div/div[1]/a[1]').click()\n",
    "sleep(1)"
   ]
  },
  {
   "cell_type": "code",
   "execution_count": 9,
   "id": "c65e99de-0cfd-4ab5-b812-efc3accf764f",
   "metadata": {},
   "outputs": [],
   "source": [
    "#金額入力\n",
    "driver.find_element_by_xpath('//*[@id=\"NYUKIN_ID\"]').send_keys(deposit_money)\n",
    "driver.find_element_by_xpath('/html/body/section/form[1]/div[2]/a[2]').click()\n",
    "sleep(1)"
   ]
  },
  {
   "cell_type": "code",
   "execution_count": 10,
   "id": "a4df1ce5-cc1c-4e63-8a21-a3a023b3124c",
   "metadata": {},
   "outputs": [],
   "source": [
    "#暗証番号入力し入金\n",
    "driver.find_element_by_xpath('//*[@id=\"PASS_WORD_ID\"]').send_keys(password_pat)\n",
    "driver.find_element_by_xpath('/html/body/section/form/div[2]/a[2]').click()\n",
    "Alert(driver).accept()\n",
    "sleep(1)"
   ]
  },
  {
   "cell_type": "code",
   "execution_count": 11,
   "id": "9f45d5cb-c0f9-4e7a-bae1-b5f1e3a87c97",
   "metadata": {},
   "outputs": [],
   "source": [
    "driver.close()\n",
    "driver.quit()"
   ]
  },
  {
   "cell_type": "code",
   "execution_count": null,
   "id": "03a3aba6-0f97-492e-a73e-5fe3a216bb87",
   "metadata": {},
   "outputs": [],
   "source": []
  }
 ],
 "metadata": {
  "kernelspec": {
   "display_name": "Python 3",
   "language": "python",
   "name": "python3"
  },
  "language_info": {
   "codemirror_mode": {
    "name": "ipython",
    "version": 3
   },
   "file_extension": ".py",
   "mimetype": "text/x-python",
   "name": "python",
   "nbconvert_exporter": "python",
   "pygments_lexer": "ipython3",
   "version": "3.7.7"
  }
 },
 "nbformat": 4,
 "nbformat_minor": 5
}
